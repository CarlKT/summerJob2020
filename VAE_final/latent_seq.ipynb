{
 "metadata": {
  "language_info": {
   "codemirror_mode": {
    "name": "ipython",
    "version": 3
   },
   "file_extension": ".py",
   "mimetype": "text/x-python",
   "name": "python",
   "nbconvert_exporter": "python",
   "pygments_lexer": "ipython3",
   "version": "3.9"
  },
  "orig_nbformat": 2,
  "kernelspec": {
   "name": "pythonjvsc74a57bd04774575cf73c7a3bd9554e1c73bea7da0ad17149024009e728223124b52173dc",
   "display_name": "Python 3.9  ('myEnv': conda)"
  },
  "metadata": {
   "interpreter": {
    "hash": "4774575cf73c7a3bd9554e1c73bea7da0ad17149024009e728223124b52173dc"
   }
  }
 },
 "nbformat": 4,
 "nbformat_minor": 2,
 "cells": [
  {
   "cell_type": "code",
   "execution_count": null,
   "metadata": {},
   "outputs": [],
   "source": [
    "import matplotlib.pyplot as plt\n",
    "import tensorflow as tf"
   ]
  },
  {
   "cell_type": "code",
   "execution_count": null,
   "metadata": {},
   "outputs": [],
   "source": [
    "#Load model\n",
    "model_name = \"saved\"\n",
    "model = tf.keras.load_model(\"saved_models/\"+ model_name)"
   ]
  },
  {
   "source": [
    "## Graphing functions"
   ],
   "cell_type": "markdown",
   "metadata": {}
  },
  {
   "cell_type": "code",
   "execution_count": null,
   "metadata": {},
   "outputs": [],
   "source": [
    "plot_latent_peaks()"
   ]
  }
 ]
}